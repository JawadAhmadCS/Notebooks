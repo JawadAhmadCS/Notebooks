{
  "nbformat": 4,
  "nbformat_minor": 0,
  "metadata": {
    "colab": {
      "provenance": [],
      "collapsed_sections": [
        "7b1cUMDdLsIr",
        "g-H4Dxd9Lx2R",
        "Ir4pry0KLxjD",
        "2Onu2aQLLxff",
        "Eszkl56CMfTC",
        "F2AqmAFeMst4",
        "bVgs6TfzM1Bf",
        "O8RoZJS-M9nW",
        "Pury9IucNGnJ"
      ],
      "authorship_tag": "ABX9TyMySTHF1QnDfANDY13F9fId",
      "include_colab_link": true
    },
    "kernelspec": {
      "name": "python3",
      "display_name": "Python 3"
    },
    "language_info": {
      "name": "python"
    }
  },
  "cells": [
    {
      "cell_type": "markdown",
      "metadata": {
        "id": "view-in-github",
        "colab_type": "text"
      },
      "source": [
        "<a href=\"https://colab.research.google.com/github/JawadAhmadCS/Notebooks/blob/main/breast_cancer.ipynb\" target=\"_parent\"><img src=\"https://colab.research.google.com/assets/colab-badge.svg\" alt=\"Open In Colab\"/></a>"
      ]
    },
    {
      "cell_type": "markdown",
      "source": [
        "# Import Libraries"
      ],
      "metadata": {
        "id": "7b1cUMDdLsIr"
      }
    },
    {
      "cell_type": "code",
      "source": [
        "# Import required libraries\n",
        "import numpy as np\n",
        "import pandas as pd\n",
        "import matplotlib.pyplot as plt"
      ],
      "metadata": {
        "id": "8NvPtDBiMBb1"
      },
      "execution_count": 1,
      "outputs": []
    },
    {
      "cell_type": "markdown",
      "source": [
        "# Upload Dataset"
      ],
      "metadata": {
        "id": "g-H4Dxd9Lx2R"
      }
    },
    {
      "cell_type": "code",
      "source": [
        "# Upload CSV file\n",
        "from google.colab import files\n",
        "uploaded = files.upload()"
      ],
      "metadata": {
        "colab": {
          "base_uri": "https://localhost:8080/",
          "height": 71
        },
        "id": "xHR0zkEsMFWV",
        "outputId": "27977f7e-0e5a-4f4d-f69c-184db0f68470"
      },
      "execution_count": 2,
      "outputs": [
        {
          "output_type": "display_data",
          "data": {
            "text/plain": [
              "<IPython.core.display.HTML object>"
            ],
            "text/html": [
              "\n",
              "     <input type=\"file\" id=\"files-03b2496c-1280-453d-988b-db35ad3aa26d\" name=\"files[]\" multiple disabled\n",
              "        style=\"border:none\" />\n",
              "     <output id=\"result-03b2496c-1280-453d-988b-db35ad3aa26d\">\n",
              "      Upload widget is only available when the cell has been executed in the\n",
              "      current browser session. Please rerun this cell to enable.\n",
              "      </output>\n",
              "      <script>// Copyright 2017 Google LLC\n",
              "//\n",
              "// Licensed under the Apache License, Version 2.0 (the \"License\");\n",
              "// you may not use this file except in compliance with the License.\n",
              "// You may obtain a copy of the License at\n",
              "//\n",
              "//      http://www.apache.org/licenses/LICENSE-2.0\n",
              "//\n",
              "// Unless required by applicable law or agreed to in writing, software\n",
              "// distributed under the License is distributed on an \"AS IS\" BASIS,\n",
              "// WITHOUT WARRANTIES OR CONDITIONS OF ANY KIND, either express or implied.\n",
              "// See the License for the specific language governing permissions and\n",
              "// limitations under the License.\n",
              "\n",
              "/**\n",
              " * @fileoverview Helpers for google.colab Python module.\n",
              " */\n",
              "(function(scope) {\n",
              "function span(text, styleAttributes = {}) {\n",
              "  const element = document.createElement('span');\n",
              "  element.textContent = text;\n",
              "  for (const key of Object.keys(styleAttributes)) {\n",
              "    element.style[key] = styleAttributes[key];\n",
              "  }\n",
              "  return element;\n",
              "}\n",
              "\n",
              "// Max number of bytes which will be uploaded at a time.\n",
              "const MAX_PAYLOAD_SIZE = 100 * 1024;\n",
              "\n",
              "function _uploadFiles(inputId, outputId) {\n",
              "  const steps = uploadFilesStep(inputId, outputId);\n",
              "  const outputElement = document.getElementById(outputId);\n",
              "  // Cache steps on the outputElement to make it available for the next call\n",
              "  // to uploadFilesContinue from Python.\n",
              "  outputElement.steps = steps;\n",
              "\n",
              "  return _uploadFilesContinue(outputId);\n",
              "}\n",
              "\n",
              "// This is roughly an async generator (not supported in the browser yet),\n",
              "// where there are multiple asynchronous steps and the Python side is going\n",
              "// to poll for completion of each step.\n",
              "// This uses a Promise to block the python side on completion of each step,\n",
              "// then passes the result of the previous step as the input to the next step.\n",
              "function _uploadFilesContinue(outputId) {\n",
              "  const outputElement = document.getElementById(outputId);\n",
              "  const steps = outputElement.steps;\n",
              "\n",
              "  const next = steps.next(outputElement.lastPromiseValue);\n",
              "  return Promise.resolve(next.value.promise).then((value) => {\n",
              "    // Cache the last promise value to make it available to the next\n",
              "    // step of the generator.\n",
              "    outputElement.lastPromiseValue = value;\n",
              "    return next.value.response;\n",
              "  });\n",
              "}\n",
              "\n",
              "/**\n",
              " * Generator function which is called between each async step of the upload\n",
              " * process.\n",
              " * @param {string} inputId Element ID of the input file picker element.\n",
              " * @param {string} outputId Element ID of the output display.\n",
              " * @return {!Iterable<!Object>} Iterable of next steps.\n",
              " */\n",
              "function* uploadFilesStep(inputId, outputId) {\n",
              "  const inputElement = document.getElementById(inputId);\n",
              "  inputElement.disabled = false;\n",
              "\n",
              "  const outputElement = document.getElementById(outputId);\n",
              "  outputElement.innerHTML = '';\n",
              "\n",
              "  const pickedPromise = new Promise((resolve) => {\n",
              "    inputElement.addEventListener('change', (e) => {\n",
              "      resolve(e.target.files);\n",
              "    });\n",
              "  });\n",
              "\n",
              "  const cancel = document.createElement('button');\n",
              "  inputElement.parentElement.appendChild(cancel);\n",
              "  cancel.textContent = 'Cancel upload';\n",
              "  const cancelPromise = new Promise((resolve) => {\n",
              "    cancel.onclick = () => {\n",
              "      resolve(null);\n",
              "    };\n",
              "  });\n",
              "\n",
              "  // Wait for the user to pick the files.\n",
              "  const files = yield {\n",
              "    promise: Promise.race([pickedPromise, cancelPromise]),\n",
              "    response: {\n",
              "      action: 'starting',\n",
              "    }\n",
              "  };\n",
              "\n",
              "  cancel.remove();\n",
              "\n",
              "  // Disable the input element since further picks are not allowed.\n",
              "  inputElement.disabled = true;\n",
              "\n",
              "  if (!files) {\n",
              "    return {\n",
              "      response: {\n",
              "        action: 'complete',\n",
              "      }\n",
              "    };\n",
              "  }\n",
              "\n",
              "  for (const file of files) {\n",
              "    const li = document.createElement('li');\n",
              "    li.append(span(file.name, {fontWeight: 'bold'}));\n",
              "    li.append(span(\n",
              "        `(${file.type || 'n/a'}) - ${file.size} bytes, ` +\n",
              "        `last modified: ${\n",
              "            file.lastModifiedDate ? file.lastModifiedDate.toLocaleDateString() :\n",
              "                                    'n/a'} - `));\n",
              "    const percent = span('0% done');\n",
              "    li.appendChild(percent);\n",
              "\n",
              "    outputElement.appendChild(li);\n",
              "\n",
              "    const fileDataPromise = new Promise((resolve) => {\n",
              "      const reader = new FileReader();\n",
              "      reader.onload = (e) => {\n",
              "        resolve(e.target.result);\n",
              "      };\n",
              "      reader.readAsArrayBuffer(file);\n",
              "    });\n",
              "    // Wait for the data to be ready.\n",
              "    let fileData = yield {\n",
              "      promise: fileDataPromise,\n",
              "      response: {\n",
              "        action: 'continue',\n",
              "      }\n",
              "    };\n",
              "\n",
              "    // Use a chunked sending to avoid message size limits. See b/62115660.\n",
              "    let position = 0;\n",
              "    do {\n",
              "      const length = Math.min(fileData.byteLength - position, MAX_PAYLOAD_SIZE);\n",
              "      const chunk = new Uint8Array(fileData, position, length);\n",
              "      position += length;\n",
              "\n",
              "      const base64 = btoa(String.fromCharCode.apply(null, chunk));\n",
              "      yield {\n",
              "        response: {\n",
              "          action: 'append',\n",
              "          file: file.name,\n",
              "          data: base64,\n",
              "        },\n",
              "      };\n",
              "\n",
              "      let percentDone = fileData.byteLength === 0 ?\n",
              "          100 :\n",
              "          Math.round((position / fileData.byteLength) * 100);\n",
              "      percent.textContent = `${percentDone}% done`;\n",
              "\n",
              "    } while (position < fileData.byteLength);\n",
              "  }\n",
              "\n",
              "  // All done.\n",
              "  yield {\n",
              "    response: {\n",
              "      action: 'complete',\n",
              "    }\n",
              "  };\n",
              "}\n",
              "\n",
              "scope.google = scope.google || {};\n",
              "scope.google.colab = scope.google.colab || {};\n",
              "scope.google.colab._files = {\n",
              "  _uploadFiles,\n",
              "  _uploadFilesContinue,\n",
              "};\n",
              "})(self);\n",
              "</script> "
            ]
          },
          "metadata": {}
        },
        {
          "output_type": "stream",
          "name": "stdout",
          "text": [
            "Saving breast-cancer.csv to breast-cancer.csv\n"
          ]
        }
      ]
    },
    {
      "cell_type": "markdown",
      "source": [
        "# Define Neural Network Class"
      ],
      "metadata": {
        "id": "Ir4pry0KLxjD"
      }
    },
    {
      "cell_type": "code",
      "source": [
        "class NeuralNetwork:\n",
        "    \"\"\"\n",
        "    Neural Network implementation from scratch\n",
        "    Architecture: 30 -> 16 -> 8 -> 1\n",
        "    \"\"\"\n",
        "\n",
        "    def __init__(self, input_size=30, hidden1=16, hidden2=8, learning_rate=0.01):\n",
        "        # Xavier initialization\n",
        "        self.lr = learning_rate\n",
        "\n",
        "        # Layer 1: Input to Hidden1 (30 -> 16)\n",
        "        self.W1 = np.random.randn(hidden1, input_size) * np.sqrt(2.0 / input_size)\n",
        "        self.b1 = np.zeros((hidden1, 1))\n",
        "\n",
        "        # Layer 2: Hidden1 to Hidden2 (16 -> 8)\n",
        "        self.W2 = np.random.randn(hidden2, hidden1) * np.sqrt(2.0 / hidden1)\n",
        "        self.b2 = np.zeros((hidden2, 1))\n",
        "\n",
        "        # Layer 3: Hidden2 to Output (8 -> 1)\n",
        "        self.W3 = np.random.randn(1, hidden2) * np.sqrt(2.0 / hidden2)\n",
        "        self.b3 = np.zeros((1, 1))\n",
        "\n",
        "        self.cache = {}\n",
        "\n",
        "    def relu(self, Z):\n",
        "        \"\"\"ReLU activation: max(0, z)\"\"\"\n",
        "        return np.maximum(0, Z)\n",
        "\n",
        "    def relu_derivative(self, Z):\n",
        "        \"\"\"Derivative of ReLU\"\"\"\n",
        "        return (Z > 0).astype(float)\n",
        "\n",
        "    def sigmoid(self, Z):\n",
        "        \"\"\"Sigmoid activation: 1 / (1 + e^-z)\"\"\"\n",
        "        return 1 / (1 + np.exp(-np.clip(Z, -500, 500)))\n",
        "\n",
        "    def sigmoid_derivative(self, A):\n",
        "        \"\"\"Derivative of sigmoid\"\"\"\n",
        "        return A * (1 - A)\n",
        "\n",
        "    def forward(self, X):\n",
        "        \"\"\"Forward propagation\"\"\"\n",
        "        # Layer 1\n",
        "        Z1 = np.dot(self.W1, X) + self.b1\n",
        "        A1 = self.relu(Z1)\n",
        "\n",
        "        # Layer 2\n",
        "        Z2 = np.dot(self.W2, A1) + self.b2\n",
        "        A2 = self.relu(Z2)\n",
        "\n",
        "        # Layer 3 (Output)\n",
        "        Z3 = np.dot(self.W3, A2) + self.b3\n",
        "        A3 = self.sigmoid(Z3)\n",
        "\n",
        "        # Cache for backpropagation\n",
        "        self.cache = {'Z1': Z1, 'A1': A1, 'Z2': Z2, 'A2': A2, 'Z3': Z3, 'A3': A3, 'X': X}\n",
        "\n",
        "        return A3\n",
        "\n",
        "    def compute_loss(self, A3, Y):\n",
        "        \"\"\"Binary Cross-Entropy Loss\"\"\"\n",
        "        m = Y.shape[1]\n",
        "        epsilon = 1e-8\n",
        "        loss = -np.mean(Y * np.log(A3 + epsilon) + (1 - Y) * np.log(1 - A3 + epsilon))\n",
        "        return loss\n",
        "\n",
        "    def backward(self, Y):\n",
        "        \"\"\"Backpropagation using chain rule\"\"\"\n",
        "        m = Y.shape[1]\n",
        "\n",
        "        A3 = self.cache['A3']\n",
        "        A2 = self.cache['A2']\n",
        "        A1 = self.cache['A1']\n",
        "        Z2 = self.cache['Z2']\n",
        "        Z1 = self.cache['Z1']\n",
        "        X = self.cache['X']\n",
        "\n",
        "        # Output layer gradients\n",
        "        dZ3 = A3 - Y\n",
        "        dW3 = (1/m) * np.dot(dZ3, A2.T)\n",
        "        db3 = (1/m) * np.sum(dZ3, axis=1, keepdims=True)\n",
        "\n",
        "        # Hidden layer 2 gradients\n",
        "        dA2 = np.dot(self.W3.T, dZ3)\n",
        "        dZ2 = dA2 * self.relu_derivative(Z2)\n",
        "        dW2 = (1/m) * np.dot(dZ2, A1.T)\n",
        "        db2 = (1/m) * np.sum(dZ2, axis=1, keepdims=True)\n",
        "\n",
        "        # Hidden layer 1 gradients\n",
        "        dA1 = np.dot(self.W2.T, dZ2)\n",
        "        dZ1 = dA1 * self.relu_derivative(Z1)\n",
        "        dW1 = (1/m) * np.dot(dZ1, X.T)\n",
        "        db1 = (1/m) * np.sum(dZ1, axis=1, keepdims=True)\n",
        "\n",
        "        self.grads = {'dW1': dW1, 'db1': db1, 'dW2': dW2, 'db2': db2,\n",
        "                      'dW3': dW3, 'db3': db3}\n",
        "\n",
        "    def update_parameters(self):\n",
        "        \"\"\"Gradient descent parameter update\"\"\"\n",
        "        self.W1 -= self.lr * self.grads['dW1']\n",
        "        self.b1 -= self.lr * self.grads['db1']\n",
        "        self.W2 -= self.lr * self.grads['dW2']\n",
        "        self.b2 -= self.lr * self.grads['db2']\n",
        "        self.W3 -= self.lr * self.grads['dW3']\n",
        "        self.b3 -= self.lr * self.grads['db3']\n",
        "\n",
        "    def train_step(self, X, Y):\n",
        "        \"\"\"Single training iteration\"\"\"\n",
        "        A3 = self.forward(X)\n",
        "        loss = self.compute_loss(A3, Y)\n",
        "        self.backward(Y)\n",
        "        self.update_parameters()\n",
        "        return loss\n",
        "\n",
        "    def predict(self, X):\n",
        "        \"\"\"Make predictions\"\"\"\n",
        "        A3 = self.forward(X)\n",
        "        return (A3 > 0.5).astype(int)\n",
        "\n",
        "print(\"✓ Neural Network class defined\")"
      ],
      "metadata": {
        "colab": {
          "base_uri": "https://localhost:8080/"
        },
        "id": "cYWN58SYMKzl",
        "outputId": "76c949b6-b1f7-4620-a619-a9e802ac0dd0"
      },
      "execution_count": 3,
      "outputs": [
        {
          "output_type": "stream",
          "name": "stdout",
          "text": [
            "✓ Neural Network class defined\n"
          ]
        }
      ]
    },
    {
      "cell_type": "markdown",
      "source": [
        "# Data Preprocessing Functions"
      ],
      "metadata": {
        "id": "2Onu2aQLLxff"
      }
    },
    {
      "cell_type": "code",
      "source": [
        "def manual_train_test_split(X, y, test_size=0.2, random_state=42):\n",
        "    \"\"\"Manual train-test split\"\"\"\n",
        "    np.random.seed(random_state)\n",
        "    n_samples = X.shape[0]\n",
        "    n_test = int(n_samples * test_size)\n",
        "\n",
        "    indices = np.random.permutation(n_samples)\n",
        "    test_indices = indices[:n_test]\n",
        "    train_indices = indices[n_test:]\n",
        "\n",
        "    return X[train_indices], X[test_indices], y[train_indices], y[test_indices]\n",
        "\n",
        "\n",
        "def manual_normalize(X_train, X_test):\n",
        "    \"\"\"Z-score normalization\"\"\"\n",
        "    mean = np.mean(X_train, axis=0)\n",
        "    std = np.std(X_train, axis=0) + 1e-8\n",
        "\n",
        "    X_train_norm = (X_train - mean) / std\n",
        "    X_test_norm = (X_test - mean) / std\n",
        "\n",
        "    return X_train_norm, X_test_norm\n",
        "\n",
        "\n",
        "def manual_k_fold_split(X, y, k=5, random_state=42):\n",
        "    \"\"\"K-fold cross-validation splits\"\"\"\n",
        "    np.random.seed(random_state)\n",
        "    n_samples = X.shape[0]\n",
        "    indices = np.random.permutation(n_samples)\n",
        "    fold_size = n_samples // k\n",
        "\n",
        "    folds = []\n",
        "    for i in range(k):\n",
        "        start = i * fold_size\n",
        "        end = start + fold_size if i < k-1 else n_samples\n",
        "        val_idx = indices[start:end]\n",
        "        train_idx = np.concatenate([indices[:start], indices[end:]])\n",
        "        folds.append((train_idx, val_idx))\n",
        "\n",
        "    return folds\n",
        "\n",
        "\n",
        "def confusion_matrix_manual(y_true, y_pred):\n",
        "    \"\"\"Compute confusion matrix\"\"\"\n",
        "    TP = np.sum((y_true == 1) & (y_pred == 1))\n",
        "    TN = np.sum((y_true == 0) & (y_pred == 0))\n",
        "    FP = np.sum((y_true == 0) & (y_pred == 1))\n",
        "    FN = np.sum((y_true == 1) & (y_pred == 0))\n",
        "    return TP, TN, FP, FN\n",
        "\n",
        "\n",
        "def compute_metrics(y_true, y_pred):\n",
        "    \"\"\"Compute classification metrics\"\"\"\n",
        "    TP, TN, FP, FN = confusion_matrix_manual(y_true, y_pred)\n",
        "\n",
        "    accuracy = (TP + TN) / (TP + TN + FP + FN)\n",
        "    precision = TP / (TP + FP) if (TP + FP) > 0 else 0\n",
        "    recall = TP / (TP + FN) if (TP + FN) > 0 else 0\n",
        "    f1 = 2 * (precision * recall) / (precision + recall) if (precision + recall) > 0 else 0\n",
        "\n",
        "    return {\n",
        "        'accuracy': accuracy,\n",
        "        'precision': precision,\n",
        "        'recall': recall,\n",
        "        'f1_score': f1,\n",
        "        'confusion_matrix': (TP, TN, FP, FN)\n",
        "    }\n",
        "\n",
        "print(\"✓ Helper functions defined\")"
      ],
      "metadata": {
        "colab": {
          "base_uri": "https://localhost:8080/"
        },
        "id": "aNBaHboJMYxT",
        "outputId": "99a8c32c-19ec-4d8e-daf4-c5cdb5c7371d"
      },
      "execution_count": 4,
      "outputs": [
        {
          "output_type": "stream",
          "name": "stdout",
          "text": [
            "✓ Helper functions defined\n"
          ]
        }
      ]
    },
    {
      "cell_type": "markdown",
      "source": [
        "# Load and Prepare Data"
      ],
      "metadata": {
        "id": "Eszkl56CMfTC"
      }
    },
    {
      "cell_type": "code",
      "source": [
        "# Load data\n",
        "data = pd.read_csv('breast-cancer.csv')\n",
        "\n",
        "# Prepare features and labels\n",
        "X = data.drop(columns=['id', 'diagnosis'], axis=1).values.T  # (30, n)\n",
        "y = (data['diagnosis'] == 'M').astype(int).values.reshape(1, -1)  # (1, n)\n",
        "\n",
        "print(f\"Total samples: {X.shape[1]}\")\n",
        "print(f\"Features per sample: {X.shape[0]}\")\n",
        "print(f\"Malignant cases: {np.sum(y)}\")\n",
        "print(f\"Benign cases: {X.shape[1] - np.sum(y)}\")\n",
        "print(f\"Class balance: {np.sum(y)/X.shape[1]*100:.1f}% malignant\")"
      ],
      "metadata": {
        "colab": {
          "base_uri": "https://localhost:8080/"
        },
        "id": "o4PiKhhxMiAW",
        "outputId": "2e7a529a-d0c7-4fd6-80ca-49ab7e6b3d3f"
      },
      "execution_count": 6,
      "outputs": [
        {
          "output_type": "stream",
          "name": "stdout",
          "text": [
            "Total samples: 569\n",
            "Features per sample: 30\n",
            "Malignant cases: 212\n",
            "Benign cases: 357\n",
            "Class balance: 37.3% malignant\n"
          ]
        }
      ]
    },
    {
      "cell_type": "markdown",
      "source": [
        "# Split and Normalize Data"
      ],
      "metadata": {
        "id": "F2AqmAFeMst4"
      }
    },
    {
      "cell_type": "code",
      "source": [
        "# Train-test split\n",
        "X_train, X_test, y_train, y_test = manual_train_test_split(\n",
        "    X.T, y.T, test_size=0.2, random_state=42\n",
        ")\n",
        "\n",
        "# Normalize\n",
        "X_train_norm, X_test_norm = manual_normalize(X_train, X_test)\n",
        "\n",
        "# Transpose for network (features, samples)\n",
        "X_train_norm = X_train_norm.T\n",
        "X_test_norm = X_test_norm.T\n",
        "y_train = y_train.T\n",
        "y_test = y_test.T\n",
        "\n",
        "# Further split training into train/validation\n",
        "X_tr, X_val, y_tr, y_val = manual_train_test_split(\n",
        "    X_train_norm.T, y_train.T, test_size=0.2, random_state=42\n",
        ")\n",
        "X_tr, X_val = X_tr.T, X_val.T\n",
        "y_tr, y_val = y_tr.T, y_val.T\n",
        "\n",
        "print(f\"Training samples: {X_tr.shape[1]}\")\n",
        "print(f\"Validation samples: {X_val.shape[1]}\")\n",
        "print(f\"Test samples: {X_test_norm.shape[1]}\")"
      ],
      "metadata": {
        "colab": {
          "base_uri": "https://localhost:8080/"
        },
        "id": "sLVAIno_MuIK",
        "outputId": "95cabffb-79fe-4a01-b619-f62eee6cd914"
      },
      "execution_count": 8,
      "outputs": [
        {
          "output_type": "stream",
          "name": "stdout",
          "text": [
            "Training samples: 365\n",
            "Validation samples: 91\n",
            "Test samples: 113\n"
          ]
        }
      ]
    },
    {
      "cell_type": "markdown",
      "source": [
        "# Train Model"
      ],
      "metadata": {
        "id": "bVgs6TfzM1Bf"
      }
    },
    {
      "cell_type": "code",
      "source": [
        "# Initialize and train model\n",
        "model = NeuralNetwork(input_size=30, learning_rate=0.1)\n",
        "\n",
        "print(\"=\"*70)\n",
        "print(\"TRAINING NEURAL NETWORK\")\n",
        "print(\"=\"*70)\n",
        "\n",
        "epochs = 200\n",
        "history = {'train_loss': [], 'val_loss': [], 'train_acc': [], 'val_acc': []}\n",
        "\n",
        "for epoch in range(epochs):\n",
        "    # Training step\n",
        "    train_loss = model.train_step(X_tr, y_tr)\n",
        "\n",
        "    # Evaluate\n",
        "    train_pred = model.predict(X_tr)\n",
        "    val_pred = model.predict(X_val)\n",
        "\n",
        "    train_acc = np.mean(train_pred == y_tr)\n",
        "    val_acc = np.mean(val_pred == y_val)\n",
        "\n",
        "    val_loss = model.compute_loss(model.forward(X_val), y_val)\n",
        "\n",
        "    history['train_loss'].append(train_loss)\n",
        "    history['val_loss'].append(val_loss)\n",
        "    history['train_acc'].append(train_acc)\n",
        "    history['val_acc'].append(val_acc)\n",
        "\n",
        "    if (epoch + 1) % 20 == 0:\n",
        "        print(f\"Epoch {epoch+1}/{epochs} - Loss: {train_loss:.4f}, \"\n",
        "              f\"Train Acc: {train_acc:.4f}, Val Acc: {val_acc:.4f}\")\n",
        "\n",
        "print(\"\\n✓ Training completed!\")"
      ],
      "metadata": {
        "colab": {
          "base_uri": "https://localhost:8080/"
        },
        "id": "mgZhHgC1M2YR",
        "outputId": "cc7db18c-59f1-499d-df7b-1ec58e103168"
      },
      "execution_count": 9,
      "outputs": [
        {
          "output_type": "stream",
          "name": "stdout",
          "text": [
            "======================================================================\n",
            "TRAINING NEURAL NETWORK\n",
            "======================================================================\n",
            "Epoch 20/200 - Loss: 0.2877, Train Acc: 0.9288, Val Acc: 0.9011\n",
            "Epoch 40/200 - Loss: 0.1896, Train Acc: 0.9397, Val Acc: 0.9231\n",
            "Epoch 60/200 - Loss: 0.1516, Train Acc: 0.9507, Val Acc: 0.9231\n",
            "Epoch 80/200 - Loss: 0.1274, Train Acc: 0.9562, Val Acc: 0.9341\n",
            "Epoch 100/200 - Loss: 0.1093, Train Acc: 0.9616, Val Acc: 0.9341\n",
            "Epoch 120/200 - Loss: 0.0955, Train Acc: 0.9699, Val Acc: 0.9560\n",
            "Epoch 140/200 - Loss: 0.0859, Train Acc: 0.9753, Val Acc: 0.9560\n",
            "Epoch 160/200 - Loss: 0.0777, Train Acc: 0.9753, Val Acc: 0.9670\n",
            "Epoch 180/200 - Loss: 0.0714, Train Acc: 0.9781, Val Acc: 0.9670\n",
            "Epoch 200/200 - Loss: 0.0648, Train Acc: 0.9781, Val Acc: 0.9780\n",
            "\n",
            "✓ Training completed!\n"
          ]
        }
      ]
    },
    {
      "cell_type": "markdown",
      "source": [
        "# Evaluate on Test Set"
      ],
      "metadata": {
        "id": "O8RoZJS-M9nW"
      }
    },
    {
      "cell_type": "code",
      "source": [
        "# Test set evaluation\n",
        "y_test_pred = model.predict(X_test_norm)\n",
        "test_metrics = compute_metrics(y_test.flatten(), y_test_pred.flatten())\n",
        "\n",
        "print(f\"Accuracy:  {test_metrics['accuracy']:.4f}\")\n",
        "print(f\"Precision: {test_metrics['precision']:.4f}\")\n",
        "print(f\"Recall:    {test_metrics['recall']:.4f}\")\n",
        "print(f\"F1 Score:  {test_metrics['f1_score']:.4f}\")\n",
        "\n",
        "TP, TN, FP, FN = test_metrics['confusion_matrix']\n",
        "print(f\"\\nConfusion Matrix:\")\n",
        "print(f\"  True Positives (TP):  {TP}\")\n",
        "print(f\"  True Negatives (TN):  {TN}\")\n",
        "print(f\"  False Positives (FP): {FP}\")\n",
        "print(f\"  False Negatives (FN): {FN}\")"
      ],
      "metadata": {
        "colab": {
          "base_uri": "https://localhost:8080/"
        },
        "id": "nzzAHqdzM9UA",
        "outputId": "b8595566-83b4-4f64-bd8f-da9d89a864bd"
      },
      "execution_count": 10,
      "outputs": [
        {
          "output_type": "stream",
          "name": "stdout",
          "text": [
            "Accuracy:  0.9646\n",
            "Precision: 0.9524\n",
            "Recall:    0.9524\n",
            "F1 Score:  0.9524\n",
            "\n",
            "Confusion Matrix:\n",
            "  True Positives (TP):  40\n",
            "  True Negatives (TN):  69\n",
            "  False Positives (FP): 2\n",
            "  False Negatives (FN): 2\n"
          ]
        }
      ]
    },
    {
      "cell_type": "markdown",
      "source": [
        "# K-Fold Cross-Validation"
      ],
      "metadata": {
        "id": "Pury9IucNGnJ"
      }
    },
    {
      "cell_type": "code",
      "source": [
        "k = 5\n",
        "folds = manual_k_fold_split(X_train_norm.T, y_train.T, k=k, random_state=42)\n",
        "\n",
        "cv_scores = []\n",
        "for fold_idx, (train_idx, val_idx) in enumerate(folds):\n",
        "    X_fold_train = X_train_norm.T[train_idx].T\n",
        "    y_fold_train = y_train.T[train_idx].T\n",
        "    X_fold_val = X_train_norm.T[val_idx].T\n",
        "    y_fold_val = y_train.T[val_idx].T\n",
        "\n",
        "    fold_model = NeuralNetwork(input_size=30, learning_rate=0.1)\n",
        "\n",
        "    # Train for 100 epochs\n",
        "    for _ in range(100):\n",
        "        fold_model.train_step(X_fold_train, y_fold_train)\n",
        "\n",
        "    # Evaluate\n",
        "    y_fold_pred = fold_model.predict(X_fold_val)\n",
        "    fold_acc = np.mean(y_fold_pred == y_fold_val)\n",
        "    cv_scores.append(fold_acc)\n",
        "    print(f\"Fold {fold_idx + 1}/{k}: Accuracy = {fold_acc:.4f}\")\n",
        "\n",
        "mean_cv = np.mean(cv_scores)\n",
        "std_cv = np.std(cv_scores)\n",
        "print(f\"\\nMean Accuracy: {mean_cv:.4f} ± {std_cv:.4f}\")\n",
        "print(f\"95% CI: [{mean_cv - 1.96*std_cv:.4f}, {mean_cv + 1.96*std_cv:.4f}]\")"
      ],
      "metadata": {
        "colab": {
          "base_uri": "https://localhost:8080/"
        },
        "id": "33LY8dvtNHge",
        "outputId": "b3ace538-bf57-461c-b1ec-154ad17f4593"
      },
      "execution_count": 11,
      "outputs": [
        {
          "output_type": "stream",
          "name": "stdout",
          "text": [
            "Fold 1/5: Accuracy = 0.9341\n",
            "Fold 2/5: Accuracy = 0.9890\n",
            "Fold 3/5: Accuracy = 0.9341\n",
            "Fold 4/5: Accuracy = 0.9451\n",
            "Fold 5/5: Accuracy = 0.9891\n",
            "\n",
            "Mean Accuracy: 0.9583 ± 0.0255\n",
            "95% CI: [0.9083, 1.0082]\n"
          ]
        }
      ]
    },
    {
      "cell_type": "markdown",
      "source": [
        "# Plot & Visualition"
      ],
      "metadata": {
        "id": "yB9YuwcuNTSV"
      }
    },
    {
      "cell_type": "code",
      "source": [
        "# Plot learning curves\n",
        "fig, axes = plt.subplots(1, 2, figsize=(14, 5))\n",
        "\n",
        "# Loss curves\n",
        "axes[0].plot(history['train_loss'], label='Training Loss', linewidth=2)\n",
        "axes[0].plot(history['val_loss'], label='Validation Loss', linewidth=2)\n",
        "axes[0].set_xlabel('Epoch', fontsize=12)\n",
        "axes[0].set_ylabel('Binary Cross-Entropy Loss', fontsize=12)\n",
        "axes[0].set_title('Learning Curve: Loss', fontsize=14, fontweight='bold')\n",
        "axes[0].legend()\n",
        "axes[0].grid(True, alpha=0.3)\n",
        "\n",
        "# Accuracy curves\n",
        "axes[1].plot(history['train_acc'], label='Training Accuracy', linewidth=2)\n",
        "axes[1].plot(history['val_acc'], label='Validation Accuracy', linewidth=2)\n",
        "axes[1].set_xlabel('Epoch', fontsize=12)\n",
        "axes[1].set_ylabel('Accuracy', fontsize=12)\n",
        "axes[1].set_title('Learning Curve: Accuracy', fontsize=14, fontweight='bold')\n",
        "axes[1].legend()\n",
        "axes[1].grid(True, alpha=0.3)\n",
        "\n",
        "plt.tight_layout()\n",
        "plt.show()"
      ],
      "metadata": {
        "colab": {
          "base_uri": "https://localhost:8080/",
          "height": 507
        },
        "id": "b3jKuHrwNRBy",
        "outputId": "669aff92-017a-47ee-f8ec-7e9825f12987"
      },
      "execution_count": 12,
      "outputs": [
        {
          "output_type": "display_data",
          "data": {
            "text/plain": [
              "<Figure size 1400x500 with 2 Axes>"
            ],
            "image/png": "[encoded data removed]"
          },
          "metadata": {}
        }
      ]
    },
    {
      "cell_type": "code",
      "source": [
        "# Confusion matrix visualization\n",
        "fig, ax = plt.subplots(figsize=(8, 6))\n",
        "cm_display = np.array([[TN, FP], [FN, TP]])\n",
        "im = ax.imshow(cm_display, cmap='Blues')\n",
        "\n",
        "ax.set_xticks([0, 1])\n",
        "ax.set_yticks([0, 1])\n",
        "ax.set_xticklabels(['Predicted\\nBenign', 'Predicted\\nMalignant'])\n",
        "ax.set_yticklabels(['Actual\\nBenign', 'Actual\\nMalignant'])\n",
        "\n",
        "# Add text annotations\n",
        "for i in range(2):\n",
        "    for j in range(2):\n",
        "        ax.text(j, i, cm_display[i, j],\n",
        "               ha=\"center\", va=\"center\", fontsize=24, fontweight='bold')\n",
        "\n",
        "ax.set_title('Confusion Matrix - Test Set', fontsize=16, fontweight='bold', pad=20)\n",
        "plt.colorbar(im, ax=ax)\n",
        "plt.tight_layout()\n",
        "plt.show()"
      ],
      "metadata": {
        "colab": {
          "base_uri": "https://localhost:8080/",
          "height": 606
        },
        "id": "GSCc8G-2NZHJ",
        "outputId": "1283359f-a5fd-4b07-ace6-bdbdefc37c28"
      },
      "execution_count": 13,
      "outputs": [
        {
          "output_type": "display_data",
          "data": {
            "text/plain": [
              "<Figure size 800x600 with 2 Axes>"
            ],
            "image/png": "[encoded data removed]"
          },
          "metadata": {}
        }
      ]
    },
    {
      "cell_type": "markdown",
      "source": [
        "# BUILDING A PREDICTIVE SYSTEM"
      ],
      "metadata": {
        "id": "Ttt5s3nFP8UL"
      }
    },
    {
      "cell_type": "code",
      "source": [
        "def predict_input(input_tuple, model, X_train):\n",
        "    \"\"\"\n",
        "    Predict using our scratch-built neural network.\n",
        "    Model outputs only 0/1, not probabilities.\n",
        "    \"\"\"\n",
        "    # Convert to numpy array (1,30)\n",
        "    input_array = np.asarray(input_tuple).reshape(1, -1)\n",
        "\n",
        "    # Normalize using training set stats\n",
        "    input_norm = (input_array - np.mean(X_train, axis=0)) / (np.std(X_train, axis=0) + 1e-8)\n",
        "\n",
        "    # Transpose for NN input (30,1)\n",
        "    input_norm = input_norm.T\n",
        "\n",
        "    # Predict → gives [[0]] or [[1]]\n",
        "    prediction = model.predict(input_norm)\n",
        "    pred_class = int(prediction[0][0])\n",
        "\n",
        "    # Map to label\n",
        "    label = \"Benign\" if pred_class == 0 else \"Malignant\"\n",
        "    print(\"Raw prediction:\", prediction)  # debug print (human style)\n",
        "    print(f\"Predicted class index: {pred_class}\")\n",
        "    return label\n"
      ],
      "metadata": {
        "id": "UYkUbzmrN66H"
      },
      "execution_count": 27,
      "outputs": []
    },
    {
      "cell_type": "code",
      "source": [
        "# test 1\n",
        "input1 = (11.71,16.67,74.72,423.6,0.1051,0.06095,0.03592,0.026,0.1339,0.05945,\n",
        "          0.4489,2.508,3.258,34.37,0.006578,0.0138,0.02662,0.01307,0.01359,\n",
        "          0.003707,13.33,25.48,86.16,546.7,0.1271,0.1028,0.1046,0.06968,\n",
        "          0.1712,0.07343)\n",
        "\n",
        "# test 2\n",
        "input2 = (20.29,14.34,135.1,1297.0,0.1003,0.1328,0.1980,0.1043,0.1809,0.05883,\n",
        "          0.7572,0.7813,5.438,94.44,0.01149,0.02461,0.05688,0.01885,0.01756,\n",
        "          0.005115,22.54,16.67,152.2,1575.0,0.1374,0.2050,0.4000,0.1625,\n",
        "          0.2364,0.07678)\n",
        "\n",
        "# test 3\n",
        "input3 = (13.54,14.36,87.46,566.3,0.09779,0.08129,0.06664,0.04781,0.1885,0.05766,\n",
        "          0.2699,0.7886,2.058,23.56,0.008462,0.0146,0.02387,0.01315,0.01980,\n",
        "          0.0023,15.11,19.26,99.7,711.2,0.1440,0.1773,0.2390,0.1288,\n",
        "          0.2977,0.07259)\n",
        "\n",
        "input4 = (17.99,10.38,122.8,1001,0.1184,0.2776,0.3001,0.1471,0.2419,0.07871,1.095,0.9053,8.589,153.4,0.006399,0.04904,0.05373,0.01587,0.03003,0.006193,25.38,17.33,184.6,2019,0.1622,0.6656,0.7119,0.2654,0.4601,0.1189)\n",
        "\n",
        "\n",
        "print(\"Prediction 1:\", predict_input(input1, model, X_train))\n",
        "print(\"Prediction 2:\", predict_input(input2, model, X_train))\n",
        "print(\"Prediction 3:\", predict_input(input3, model, X_train))\n",
        "print(\"Prediction 4:\", predict_input(input4, model, X_train))\n"
      ],
      "metadata": {
        "colab": {
          "base_uri": "https://localhost:8080/"
        },
        "id": "LaWe5HRXN8YP",
        "outputId": "23853f4e-6ab6-4c49-ea8c-4ae5d844de31"
      },
      "execution_count": 30,
      "outputs": [
        {
          "output_type": "stream",
          "name": "stdout",
          "text": [
            "Raw prediction: [[0]]\n",
            "Predicted class index: 0\n",
            "Prediction 1: Benign\n",
            "Raw prediction: [[1]]\n",
            "Predicted class index: 1\n",
            "Prediction 2: Malignant\n",
            "Raw prediction: [[0]]\n",
            "Predicted class index: 0\n",
            "Prediction 3: Benign\n",
            "Raw prediction: [[1]]\n",
            "Predicted class index: 1\n",
            "Prediction 4: Malignant\n"
          ]
        }
      ]
    }
  ]
}